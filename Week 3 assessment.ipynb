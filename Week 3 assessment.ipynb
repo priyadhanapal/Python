{
 "cells": [
  {
   "cell_type": "markdown",
   "id": "24b92410-db92-45ae-b779-0adb67f6a4f1",
   "metadata": {},
   "source": [
    "# <b> <font color=#800080>WEEK ASSESSMENT - 3</font>"
   ]
  },
  {
   "cell_type": "markdown",
   "id": "62c661c4-1b69-490c-b332-4854d6811efc",
   "metadata": {},
   "source": [
    "## <font color=green>*ANSWERS*</font>"
   ]
  },
  {
   "cell_type": "markdown",
   "id": "0a543170-7eeb-4564-ba48-c4ab7273160f",
   "metadata": {},
   "source": [
    "## <b> <font color=blue>Question No: 1</font>"
   ]
  },
  {
   "cell_type": "code",
   "execution_count": 1,
   "id": "419a7ee6-854b-40ef-bd7f-a501bd0ee65a",
   "metadata": {},
   "outputs": [],
   "source": [
    "def calculateSal():\n",
    "    salary=int(input(\"Enter the salary=\"))\n",
    "    if salary>10000:\n",
    "        print(\"Salary too large\")\n",
    "    elif salary<0 :\n",
    "        print(\"Salary too small\")\n",
    "    else:\n",
    "        shifts=int(input(\"enter the no of shifts=\"))\n",
    "        if shifts<0:\n",
    "            print(\"Shift too small\")\n",
    "        else:\n",
    "            savings=(salary*0.6)+(salary*0.04*shifts)\n",
    "            return savings"
   ]
  },
  {
   "cell_type": "code",
   "execution_count": 2,
   "id": "8b2d94bd-f4f9-47a4-8011-9f887316d8a3",
   "metadata": {},
   "outputs": [
    {
     "name": "stdin",
     "output_type": "stream",
     "text": [
      "Enter the salary= 9000\n",
      "enter the no of shifts= 1\n"
     ]
    },
    {
     "data": {
      "text/plain": [
       "5760.0"
      ]
     },
     "execution_count": 2,
     "metadata": {},
     "output_type": "execute_result"
    }
   ],
   "source": [
    "calculateSal()"
   ]
  },
  {
   "cell_type": "markdown",
   "id": "445159d0-8979-4e79-8e4b-6ae8097cfb05",
   "metadata": {},
   "source": [
    "## <b> <font color=blue>Question No: 2</font>"
   ]
  },
  {
   "cell_type": "code",
   "execution_count": null,
   "id": "51778a36-3fa4-4d5f-93a7-0cf57aa98c60",
   "metadata": {},
   "outputs": [
    {
     "name": "stdin",
     "output_type": "stream",
     "text": [
      "How many square number you want: 6\n"
     ]
    },
    {
     "name": "stdout",
     "output_type": "stream",
     "text": [
      "The square of each number:\n",
      "0\n",
      "\n",
      "1\n",
      "\n",
      "4\n",
      "\n",
      "9\n",
      "\n",
      "16\n",
      "\n",
      "25\n",
      "\n"
     ]
    }
   ],
   "source": [
    "n=int(input(\"How many square number you want:\"))\n",
    "print(\"The square of each number:\")\n",
    "for i in range(n):\n",
    " print(i**2)\n",
    " print()"
   ]
  },
  {
   "cell_type": "code",
   "execution_count": 33,
   "id": "64fe878e-64c4-4359-a51d-84444275026a",
   "metadata": {},
   "outputs": [
    {
     "name": "stdin",
     "output_type": "stream",
     "text": [
      "enter the value= 3\n"
     ]
    },
    {
     "name": "stdout",
     "output_type": "stream",
     "text": [
      "0\n",
      "1\n",
      "4\n"
     ]
    }
   ],
   "source": [
    "n=int(input(\"enter the value=\"))\n",
    "for i in range(n):    \n",
    "    print(i*i)"
   ]
  },
  {
   "cell_type": "markdown",
   "id": "df3a40a0-f516-4c99-9000-03fdaa5e1d48",
   "metadata": {},
   "source": [
    "## <b> <font color=blue>Question No: 3</font>"
   ]
  },
  {
   "cell_type": "code",
   "execution_count": 13,
   "id": "ef67200d-8c31-47d6-8302-7e677659c6e7",
   "metadata": {},
   "outputs": [
    {
     "name": "stdin",
     "output_type": "stream",
     "text": [
      "Enter The Year 1999\n"
     ]
    },
    {
     "data": {
      "text/plain": [
       "False"
      ]
     },
     "execution_count": 13,
     "metadata": {},
     "output_type": "execute_result"
    }
   ],
   "source": [
    "def is_leap(year):\n",
    "    leap = False\n",
    "    if year % 4 == 0:\n",
    "        if year % 100 != 0:\n",
    "            leap = True\n",
    "        elif year % 400 == 0:\n",
    "            leap = True\n",
    "    return leap\n",
    "year=int(input(\"Enter The Year\"))\n",
    "is_leap(year)"
   ]
  },
  {
   "cell_type": "markdown",
   "id": "590eef78-443d-4021-a440-92ff19777f24",
   "metadata": {
    "tags": []
   },
   "source": [
    "## <font color=#CD1076>*By*</font>"
   ]
  },
  {
   "cell_type": "markdown",
   "id": "1345d6c7-c9ac-4e39-88a8-b2e0957457a8",
   "metadata": {},
   "source": [
    "# <font color=#CD1076>*Priyadharshini D* </font> <font color=\t#9932CC>*(Batch 2021-7234)*</font>"
   ]
  }
 ],
 "metadata": {
  "kernelspec": {
   "display_name": "Python 3 (ipykernel)",
   "language": "python",
   "name": "python3"
  },
  "language_info": {
   "codemirror_mode": {
    "name": "ipython",
    "version": 3
   },
   "file_extension": ".py",
   "mimetype": "text/x-python",
   "name": "python",
   "nbconvert_exporter": "python",
   "pygments_lexer": "ipython3",
   "version": "3.9.12"
  },
  "toc-autonumbering": false,
  "toc-showmarkdowntxt": false,
  "toc-showtags": true
 },
 "nbformat": 4,
 "nbformat_minor": 5
}
